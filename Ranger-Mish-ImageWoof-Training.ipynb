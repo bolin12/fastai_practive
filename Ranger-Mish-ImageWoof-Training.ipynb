{
 "cells": [
  {
   "cell_type": "code",
   "execution_count": 1,
   "metadata": {},
   "outputs": [],
   "source": [
    "#Below is the training settings used for ImageWoof 5 epoch, 128px.  You can kick off a run in the very next cell.\n",
    "#There are some other sample runs showing how some of the settings were adjusted...if you find better settings please let us know!"
   ]
  },
  {
   "cell_type": "code",
   "execution_count": 2,
   "metadata": {},
   "outputs": [
    {
     "ename": "ModuleNotFoundError",
     "evalue": "No module named 'fastai.vision'",
     "output_type": "error",
     "traceback": [
      "\u001b[0;31m---------------------------------------------------------------------------\u001b[0m",
      "\u001b[0;31mModuleNotFoundError\u001b[0m                       Traceback (most recent call last)",
      "\u001b[0;32m~/code/DL/Ranger-Mish-ImageWoof-5-master/train.py\u001b[0m in \u001b[0;36m<module>\u001b[0;34m\u001b[0m\n\u001b[1;32m      7\u001b[0m \u001b[0;34m\u001b[0m\u001b[0m\n\u001b[1;32m      8\u001b[0m \u001b[0;34m\u001b[0m\u001b[0m\n\u001b[0;32m----> 9\u001b[0;31m \u001b[0;32mimport\u001b[0m \u001b[0mfastai\u001b[0m\u001b[0;34m.\u001b[0m\u001b[0mvision\u001b[0m\u001b[0;34m\u001b[0m\u001b[0;34m\u001b[0m\u001b[0m\n\u001b[0m\u001b[1;32m     10\u001b[0m \u001b[0;31m# from fastai.script import *\u001b[0m\u001b[0;34m\u001b[0m\u001b[0;34m\u001b[0m\u001b[0;34m\u001b[0m\u001b[0m\n\u001b[1;32m     11\u001b[0m \u001b[0;32mfrom\u001b[0m \u001b[0mfastai\u001b[0m\u001b[0;34m.\u001b[0m\u001b[0mvision\u001b[0m \u001b[0;32mimport\u001b[0m \u001b[0;34m*\u001b[0m\u001b[0;34m\u001b[0m\u001b[0;34m\u001b[0m\u001b[0m\n",
      "\u001b[0;31mModuleNotFoundError\u001b[0m: No module named 'fastai.vision'"
     ]
    }
   ],
   "source": [
    "#Run this to reproduce the results of our entry:\n",
    "%run train.py --run 5 --woof 1 --size 128 --bs 64 --mixup 0 --epoch 5 --lr 4e-3 --gpu 0 \\\n",
    "                --opt ranger --mom .95 --sched_type flat_and_anneal --ann_start 0.72"
   ]
  },
  {
   "cell_type": "code",
   "execution_count": null,
   "metadata": {},
   "outputs": [],
   "source": [
    "#Sample run below..."
   ]
  },
  {
   "cell_type": "code",
   "execution_count": 5,
   "metadata": {},
   "outputs": [
    {
     "name": "stdout",
     "output_type": "stream",
     "text": [
      "lr: 0.004; eff_lr: 0.004; size: 128; alpha: 0.99; mom: 0.95; eps: 1e-06\n",
      "/home/ubuntu/.fastai/data/imagewoof\n",
      "698  annealing start\n",
      "Using Ranger Optimizer...\n",
      "Using Ranger Optimizer...\n"
     ]
    },
    {
     "data": {
      "text/html": [
       "<table border=\"1\" class=\"dataframe\">\n",
       "  <thead>\n",
       "    <tr style=\"text-align: left;\">\n",
       "      <th>epoch</th>\n",
       "      <th>train_loss</th>\n",
       "      <th>valid_loss</th>\n",
       "      <th>accuracy</th>\n",
       "      <th>top_k_accuracy</th>\n",
       "      <th>time</th>\n",
       "    </tr>\n",
       "  </thead>\n",
       "  <tbody>\n",
       "    <tr>\n",
       "      <td>0</td>\n",
       "      <td>1.984163</td>\n",
       "      <td>2.029806</td>\n",
       "      <td>0.330000</td>\n",
       "      <td>0.842000</td>\n",
       "      <td>00:24</td>\n",
       "    </tr>\n",
       "    <tr>\n",
       "      <td>1</td>\n",
       "      <td>1.740235</td>\n",
       "      <td>1.942208</td>\n",
       "      <td>0.410000</td>\n",
       "      <td>0.868000</td>\n",
       "      <td>00:24</td>\n",
       "    </tr>\n",
       "    <tr>\n",
       "      <td>2</td>\n",
       "      <td>1.623572</td>\n",
       "      <td>1.513153</td>\n",
       "      <td>0.548000</td>\n",
       "      <td>0.932000</td>\n",
       "      <td>00:24</td>\n",
       "    </tr>\n",
       "    <tr>\n",
       "      <td>3</td>\n",
       "      <td>1.471418</td>\n",
       "      <td>1.411775</td>\n",
       "      <td>0.608000</td>\n",
       "      <td>0.938000</td>\n",
       "      <td>00:24</td>\n",
       "    </tr>\n",
       "    <tr>\n",
       "      <td>4</td>\n",
       "      <td>1.269109</td>\n",
       "      <td>1.224273</td>\n",
       "      <td>0.708000</td>\n",
       "      <td>0.958000</td>\n",
       "      <td>00:24</td>\n",
       "    </tr>\n",
       "  </tbody>\n",
       "</table>"
      ],
      "text/plain": [
       "<IPython.core.display.HTML object>"
      ]
     },
     "metadata": {},
     "output_type": "display_data"
    },
    {
     "name": "stdout",
     "output_type": "stream",
     "text": [
      "lr: 0.004; eff_lr: 0.004; size: 128; alpha: 0.99; mom: 0.95; eps: 1e-06\n",
      "/home/ubuntu/.fastai/data/imagewoof\n",
      "698  annealing start\n",
      "Using Ranger Optimizer...\n",
      "Using Ranger Optimizer...\n"
     ]
    },
    {
     "data": {
      "text/html": [
       "<table border=\"1\" class=\"dataframe\">\n",
       "  <thead>\n",
       "    <tr style=\"text-align: left;\">\n",
       "      <th>epoch</th>\n",
       "      <th>train_loss</th>\n",
       "      <th>valid_loss</th>\n",
       "      <th>accuracy</th>\n",
       "      <th>top_k_accuracy</th>\n",
       "      <th>time</th>\n",
       "    </tr>\n",
       "  </thead>\n",
       "  <tbody>\n",
       "    <tr>\n",
       "      <td>0</td>\n",
       "      <td>1.980169</td>\n",
       "      <td>1.957445</td>\n",
       "      <td>0.332000</td>\n",
       "      <td>0.834000</td>\n",
       "      <td>00:24</td>\n",
       "    </tr>\n",
       "    <tr>\n",
       "      <td>1</td>\n",
       "      <td>1.720152</td>\n",
       "      <td>1.771204</td>\n",
       "      <td>0.428000</td>\n",
       "      <td>0.898000</td>\n",
       "      <td>00:24</td>\n",
       "    </tr>\n",
       "    <tr>\n",
       "      <td>2</td>\n",
       "      <td>1.544014</td>\n",
       "      <td>1.408681</td>\n",
       "      <td>0.614000</td>\n",
       "      <td>0.952000</td>\n",
       "      <td>00:24</td>\n",
       "    </tr>\n",
       "    <tr>\n",
       "      <td>3</td>\n",
       "      <td>1.414777</td>\n",
       "      <td>1.338698</td>\n",
       "      <td>0.652000</td>\n",
       "      <td>0.958000</td>\n",
       "      <td>00:24</td>\n",
       "    </tr>\n",
       "    <tr>\n",
       "      <td>4</td>\n",
       "      <td>1.225740</td>\n",
       "      <td>1.153836</td>\n",
       "      <td>0.740000</td>\n",
       "      <td>0.968000</td>\n",
       "      <td>00:24</td>\n",
       "    </tr>\n",
       "  </tbody>\n",
       "</table>"
      ],
      "text/plain": [
       "<IPython.core.display.HTML object>"
      ]
     },
     "metadata": {},
     "output_type": "display_data"
    },
    {
     "name": "stdout",
     "output_type": "stream",
     "text": [
      "lr: 0.004; eff_lr: 0.004; size: 128; alpha: 0.99; mom: 0.95; eps: 1e-06\n",
      "/home/ubuntu/.fastai/data/imagewoof\n",
      "698  annealing start\n",
      "Using Ranger Optimizer...\n",
      "Using Ranger Optimizer...\n"
     ]
    },
    {
     "data": {
      "text/html": [
       "<table border=\"1\" class=\"dataframe\">\n",
       "  <thead>\n",
       "    <tr style=\"text-align: left;\">\n",
       "      <th>epoch</th>\n",
       "      <th>train_loss</th>\n",
       "      <th>valid_loss</th>\n",
       "      <th>accuracy</th>\n",
       "      <th>top_k_accuracy</th>\n",
       "      <th>time</th>\n",
       "    </tr>\n",
       "  </thead>\n",
       "  <tbody>\n",
       "    <tr>\n",
       "      <td>0</td>\n",
       "      <td>1.940885</td>\n",
       "      <td>1.926415</td>\n",
       "      <td>0.360000</td>\n",
       "      <td>0.840000</td>\n",
       "      <td>00:24</td>\n",
       "    </tr>\n",
       "    <tr>\n",
       "      <td>1</td>\n",
       "      <td>1.710998</td>\n",
       "      <td>1.874004</td>\n",
       "      <td>0.450000</td>\n",
       "      <td>0.874000</td>\n",
       "      <td>00:24</td>\n",
       "    </tr>\n",
       "    <tr>\n",
       "      <td>2</td>\n",
       "      <td>1.575062</td>\n",
       "      <td>1.461225</td>\n",
       "      <td>0.598000</td>\n",
       "      <td>0.930000</td>\n",
       "      <td>00:24</td>\n",
       "    </tr>\n",
       "    <tr>\n",
       "      <td>3</td>\n",
       "      <td>1.406095</td>\n",
       "      <td>1.314005</td>\n",
       "      <td>0.650000</td>\n",
       "      <td>0.968000</td>\n",
       "      <td>00:24</td>\n",
       "    </tr>\n",
       "    <tr>\n",
       "      <td>4</td>\n",
       "      <td>1.221502</td>\n",
       "      <td>1.167559</td>\n",
       "      <td>0.738000</td>\n",
       "      <td>0.966000</td>\n",
       "      <td>00:24</td>\n",
       "    </tr>\n",
       "  </tbody>\n",
       "</table>"
      ],
      "text/plain": [
       "<IPython.core.display.HTML object>"
      ]
     },
     "metadata": {},
     "output_type": "display_data"
    },
    {
     "name": "stdout",
     "output_type": "stream",
     "text": [
      "lr: 0.004; eff_lr: 0.004; size: 128; alpha: 0.99; mom: 0.95; eps: 1e-06\n",
      "/home/ubuntu/.fastai/data/imagewoof\n",
      "698  annealing start\n",
      "Using Ranger Optimizer...\n",
      "Using Ranger Optimizer...\n"
     ]
    },
    {
     "data": {
      "text/html": [
       "<table border=\"1\" class=\"dataframe\">\n",
       "  <thead>\n",
       "    <tr style=\"text-align: left;\">\n",
       "      <th>epoch</th>\n",
       "      <th>train_loss</th>\n",
       "      <th>valid_loss</th>\n",
       "      <th>accuracy</th>\n",
       "      <th>top_k_accuracy</th>\n",
       "      <th>time</th>\n",
       "    </tr>\n",
       "  </thead>\n",
       "  <tbody>\n",
       "    <tr>\n",
       "      <td>0</td>\n",
       "      <td>1.936900</td>\n",
       "      <td>1.887296</td>\n",
       "      <td>0.378000</td>\n",
       "      <td>0.858000</td>\n",
       "      <td>00:24</td>\n",
       "    </tr>\n",
       "    <tr>\n",
       "      <td>1</td>\n",
       "      <td>1.706574</td>\n",
       "      <td>1.838660</td>\n",
       "      <td>0.412000</td>\n",
       "      <td>0.866000</td>\n",
       "      <td>00:24</td>\n",
       "    </tr>\n",
       "    <tr>\n",
       "      <td>2</td>\n",
       "      <td>1.538803</td>\n",
       "      <td>1.465649</td>\n",
       "      <td>0.570000</td>\n",
       "      <td>0.938000</td>\n",
       "      <td>00:24</td>\n",
       "    </tr>\n",
       "    <tr>\n",
       "      <td>3</td>\n",
       "      <td>1.417734</td>\n",
       "      <td>1.516062</td>\n",
       "      <td>0.610000</td>\n",
       "      <td>0.938000</td>\n",
       "      <td>00:24</td>\n",
       "    </tr>\n",
       "    <tr>\n",
       "      <td>4</td>\n",
       "      <td>1.219298</td>\n",
       "      <td>1.146909</td>\n",
       "      <td>0.756000</td>\n",
       "      <td>0.968000</td>\n",
       "      <td>00:24</td>\n",
       "    </tr>\n",
       "  </tbody>\n",
       "</table>"
      ],
      "text/plain": [
       "<IPython.core.display.HTML object>"
      ]
     },
     "metadata": {},
     "output_type": "display_data"
    },
    {
     "name": "stdout",
     "output_type": "stream",
     "text": [
      "lr: 0.004; eff_lr: 0.004; size: 128; alpha: 0.99; mom: 0.95; eps: 1e-06\n",
      "/home/ubuntu/.fastai/data/imagewoof\n",
      "698  annealing start\n",
      "Using Ranger Optimizer...\n",
      "Using Ranger Optimizer...\n"
     ]
    },
    {
     "data": {
      "text/html": [
       "<table border=\"1\" class=\"dataframe\">\n",
       "  <thead>\n",
       "    <tr style=\"text-align: left;\">\n",
       "      <th>epoch</th>\n",
       "      <th>train_loss</th>\n",
       "      <th>valid_loss</th>\n",
       "      <th>accuracy</th>\n",
       "      <th>top_k_accuracy</th>\n",
       "      <th>time</th>\n",
       "    </tr>\n",
       "  </thead>\n",
       "  <tbody>\n",
       "    <tr>\n",
       "      <td>0</td>\n",
       "      <td>1.984180</td>\n",
       "      <td>1.871148</td>\n",
       "      <td>0.410000</td>\n",
       "      <td>0.838000</td>\n",
       "      <td>00:24</td>\n",
       "    </tr>\n",
       "    <tr>\n",
       "      <td>1</td>\n",
       "      <td>1.729023</td>\n",
       "      <td>1.808504</td>\n",
       "      <td>0.416000</td>\n",
       "      <td>0.906000</td>\n",
       "      <td>00:24</td>\n",
       "    </tr>\n",
       "    <tr>\n",
       "      <td>2</td>\n",
       "      <td>1.579883</td>\n",
       "      <td>1.466045</td>\n",
       "      <td>0.576000</td>\n",
       "      <td>0.934000</td>\n",
       "      <td>00:24</td>\n",
       "    </tr>\n",
       "    <tr>\n",
       "      <td>3</td>\n",
       "      <td>1.432573</td>\n",
       "      <td>1.329645</td>\n",
       "      <td>0.650000</td>\n",
       "      <td>0.956000</td>\n",
       "      <td>00:24</td>\n",
       "    </tr>\n",
       "    <tr>\n",
       "      <td>4</td>\n",
       "      <td>1.258308</td>\n",
       "      <td>1.194339</td>\n",
       "      <td>0.734000</td>\n",
       "      <td>0.960000</td>\n",
       "      <td>00:24</td>\n",
       "    </tr>\n",
       "  </tbody>\n",
       "</table>"
      ],
      "text/plain": [
       "<IPython.core.display.HTML object>"
      ]
     },
     "metadata": {},
     "output_type": "display_data"
    },
    {
     "name": "stdout",
     "output_type": "stream",
     "text": [
      "[0.708 0.74  0.738 0.756 0.734]\n",
      "0.7352\n",
      "0.01552288\n"
     ]
    }
   ],
   "source": [
    "%run train.py --run 5 --woof 1 --size 128 --bs 64 --mixup 0 --epoch 5 --lr 4e-3 --gpu 0 \\\n",
    "                --opt ranger --mom .95 --sched_type flat_and_anneal --ann_start 0.72"
   ]
  },
  {
   "cell_type": "code",
   "execution_count": null,
   "metadata": {},
   "outputs": [],
   "source": [
    "#possible ideas to test.....\n",
    "%run train.py --run 5 --woof 1 --size 128 --bs 64 --mixup 0 --epoch 20 --lr 3e-3 --gpu 0 \\\n",
    "                --opt ranger --sched_type flat_and_anneal --ann_start 0.7"
   ]
  },
  {
   "cell_type": "code",
   "execution_count": null,
   "metadata": {},
   "outputs": [],
   "source": [
    "%run train.py --run 5 --woof 1 --size 128 --bs 64 --mixup 0 --epoch 20 --lr 5e-3 --gpu 0 \\\n",
    "                --opt ranger --sched_type flat_and_anneal --ann_start 0.7"
   ]
  },
  {
   "cell_type": "code",
   "execution_count": null,
   "metadata": {},
   "outputs": [],
   "source": [
    "%run train.py --run 5 --woof 1 --size 128 --bs 64 --mixup 0 --epoch 20 --lr 8e-3 --gpu 0 \\\n",
    "                --opt ranger --sched_type flat_and_anneal --ann_start 0.7"
   ]
  },
  {
   "cell_type": "code",
   "execution_count": null,
   "metadata": {},
   "outputs": [],
   "source": []
  },
  {
   "cell_type": "code",
   "execution_count": null,
   "metadata": {},
   "outputs": [],
   "source": []
  },
  {
   "cell_type": "code",
   "execution_count": null,
   "metadata": {},
   "outputs": [],
   "source": [
    "%run train.py --run 2 --woof 1 --size 128 --bs 64 --mixup 0 --epoch 5 --lr 2e-3 --gpu 0 \\\n",
    "                --opt adam --mom .95 --alpha .98 --sched_type flat_and_anneal --ann_start 0.5"
   ]
  },
  {
   "cell_type": "code",
   "execution_count": null,
   "metadata": {},
   "outputs": [],
   "source": []
  },
  {
   "cell_type": "code",
   "execution_count": null,
   "metadata": {},
   "outputs": [],
   "source": []
  },
  {
   "cell_type": "code",
   "execution_count": null,
   "metadata": {},
   "outputs": [],
   "source": [
    "%run train.py --run 2 --woof 1 --size 128 --bs 64 --mixup 0 --sa 0 --epoch 80 --lr 8e-2 --gpu 0 \\\n",
    "                --opt Adams --mom .95 --alpha .98 --sched_type flat_and_anneal --ann_start 0.3"
   ]
  },
  {
   "cell_type": "code",
   "execution_count": null,
   "metadata": {},
   "outputs": [],
   "source": []
  }
 ],
 "metadata": {
  "kernelspec": {
   "display_name": "Python [conda env:fastai]",
   "language": "python",
   "name": "conda-env-fastai-py"
  },
  "language_info": {
   "codemirror_mode": {
    "name": "ipython",
    "version": 3
   },
   "file_extension": ".py",
   "mimetype": "text/x-python",
   "name": "python",
   "nbconvert_exporter": "python",
   "pygments_lexer": "ipython3",
   "version": "3.6.11"
  }
 },
 "nbformat": 4,
 "nbformat_minor": 2
}
